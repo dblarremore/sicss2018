{
 "cells": [
  {
   "cell_type": "markdown",
   "metadata": {},
   "source": [
    "# Buncha imports"
   ]
  },
  {
   "cell_type": "code",
   "execution_count": 1,
   "metadata": {},
   "outputs": [],
   "source": [
    "import numpy as np\n",
    "import matplotlib.pylab as plt \n",
    "%matplotlib inline\n",
    "import networkx as nx\n",
    "import SpringRank_tools as sr\n",
    "import tools as tl\n",
    "from scipy.optimize import brentq"
   ]
  },
  {
   "cell_type": "markdown",
   "metadata": {},
   "source": [
    "# Some helpers"
   ]
  },
  {
   "cell_type": "code",
   "execution_count": 95,
   "metadata": {},
   "outputs": [],
   "source": [
    "def eqs39(beta,s,A):\n",
    "    N = np.shape(A)[0]\n",
    "    x = 0\n",
    "    for i in range(N):\n",
    "        for j in range(N):\n",
    "            if A[i,j] == 0:\n",
    "                continue\n",
    "            else:\n",
    "                x += (s[i]-s[j]) * ( A[i,j] - (A[i,j]+A[j,i]) / (1+np.exp(-2*beta*(s[i]-s[j]))) )\n",
    "    return x\n",
    "def predict(si,sj,beta):\n",
    "    return 1/(1+np.exp(-2*beta*(si-sj)))"
   ]
  },
  {
   "cell_type": "markdown",
   "metadata": {},
   "source": [
    "# Test Script"
   ]
  },
  {
   "cell_type": "code",
   "execution_count": 96,
   "metadata": {},
   "outputs": [],
   "source": [
    "# where's the data?\n",
    "fname = 'test.txt'\n",
    "# load in the data. NOTE the delimiter here is set to tab but you can set to \",\" or \" \"\n",
    "comparisons = np.loadtxt(fname,delimiter=\"\\t\",dtype=int)\n",
    "\n",
    "# If you are indexing from 1, we're going to shift to 0...\n",
    "if np.min(comparisons)==1:\n",
    "    comparisons += -1\n",
    "# Turn it into a matrix\n",
    "N = int(np.max(comparisons))\n",
    "A = np.zeros([N+1,N+1])\n",
    "for comp in comparisons:\n",
    "    i = comp[0]\n",
    "    j = comp[1]\n",
    "    if len(comp)==3:\n",
    "        if comp[2] > 0:\n",
    "            A[i,j] += comp[2]\n",
    "        else:\n",
    "            A[i,j] += 1            \n",
    "    if len(comp)==2:\n",
    "        A[i,j] += 1\n",
    "A = np.matrix(A)"
   ]
  },
  {
   "cell_type": "code",
   "execution_count": 97,
   "metadata": {},
   "outputs": [
    {
     "name": "stdout",
     "output_type": "stream",
     "text": [
      "Using faster computation: fixing a rank degree of freedom\n",
      "Switched to scipy.sparse.linalg.bicgstab(A,B)[0]\n"
     ]
    }
   ],
   "source": [
    "# compute the ranks\n",
    "rank=sr.SpringRank(A,alpha=0,l0=1.,l1=1.)\n",
    "# cleanup so that min rank is 0\n",
    "rank=tl.shift_rank(rank)\n",
    "# compute the inverse temperature tha best describes the system\n",
    "betahat = brentq(eqs39,1e-3,100,args=(rank,A))"
   ]
  },
  {
   "cell_type": "code",
   "execution_count": 98,
   "metadata": {},
   "outputs": [
    {
     "name": "stdout",
     "output_type": "stream",
     "text": [
      "[1.25606437 2.29867949 0.5199731  1.65396884 1.82667684 1.29327876\n",
      " 0.89261694 1.11223627 0.97540207 1.36709949 1.46967984 1.90615726\n",
      " 0.94777476 0.96012817 0.83033083 1.93896054 1.67724053 1.32137804\n",
      " 0.32855329 1.77449783 0.72291858 0.29992003 0.49854519 1.11458956\n",
      " 1.67541454 1.69738929 0.48976898 1.76723697 0.92837535 0.52323965\n",
      " 0.36226793 1.49753731 1.15832274 0.98410684 0.99882789 1.39938179\n",
      " 1.76909026 1.08545463 2.0082415  0.84352424 2.28764737 0.9746931\n",
      " 2.12850186 1.04320278 1.36953237 1.28766285 0.69539578 1.21365733\n",
      " 1.34632741 1.54158465 0.6413418  2.45977367 1.69266017 0.98176928\n",
      " 1.2965247  2.09246831 1.20980028 1.45323735 0.53307566 0.87846095\n",
      " 0.25643821 1.15158167 0.         1.39262563 0.91311926 1.15743811\n",
      " 0.7263372  1.48418689 1.60037365 1.60494897 1.02844263 0.83085723\n",
      " 0.09100132 1.24959698 1.19998449 1.19831112 0.84766629 1.13151429\n",
      " 1.34256662 2.15803065 0.4252917  0.57033886 0.97167454 0.96758249\n",
      " 1.7946492  0.13769584 1.05641465 0.22952267 1.19998449 1.57436779\n",
      " 1.03864943 1.45962459 1.16714823 1.233017   1.80059075 1.09779289\n",
      " 3.4598617  1.17649719 0.8307528  1.13980268]\n"
     ]
    }
   ],
   "source": [
    "# what are the ranks?\n",
    "print(rank)"
   ]
  },
  {
   "cell_type": "code",
   "execution_count": 100,
   "metadata": {},
   "outputs": [
    {
     "data": {
      "text/plain": [
       "0.7006371032860206"
      ]
     },
     "execution_count": 100,
     "metadata": {},
     "output_type": "execute_result"
    }
   ],
   "source": [
    "# try a prediction\n",
    "# predict(rank_i, rank_j, betahat)\n",
    "predict(rank[0],rank[41],betahat)"
   ]
  },
  {
   "cell_type": "code",
   "execution_count": null,
   "metadata": {},
   "outputs": [],
   "source": []
  }
 ],
 "metadata": {
  "kernelspec": {
   "display_name": "Python 3",
   "language": "python",
   "name": "python3"
  },
  "language_info": {
   "codemirror_mode": {
    "name": "ipython",
    "version": 3
   },
   "file_extension": ".py",
   "mimetype": "text/x-python",
   "name": "python",
   "nbconvert_exporter": "python",
   "pygments_lexer": "ipython3",
   "version": "3.6.2"
  }
 },
 "nbformat": 4,
 "nbformat_minor": 2
}
